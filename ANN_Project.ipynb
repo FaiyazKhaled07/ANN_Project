{
 "cells": [
  {
   "cell_type": "code",
   "execution_count": 1,
   "metadata": {},
   "outputs": [
    {
     "data": {
      "text/html": [
       "<div>\n",
       "<style scoped>\n",
       "    .dataframe tbody tr th:only-of-type {\n",
       "        vertical-align: middle;\n",
       "    }\n",
       "\n",
       "    .dataframe tbody tr th {\n",
       "        vertical-align: top;\n",
       "    }\n",
       "\n",
       "    .dataframe thead th {\n",
       "        text-align: right;\n",
       "    }\n",
       "</style>\n",
       "<table border=\"1\" class=\"dataframe\">\n",
       "  <thead>\n",
       "    <tr style=\"text-align: right;\">\n",
       "      <th></th>\n",
       "      <th>RowNumber</th>\n",
       "      <th>CustomerId</th>\n",
       "      <th>Surname</th>\n",
       "      <th>CreditScore</th>\n",
       "      <th>Geography</th>\n",
       "      <th>Gender</th>\n",
       "      <th>Age</th>\n",
       "      <th>Tenure</th>\n",
       "      <th>Balance</th>\n",
       "      <th>NumOfProducts</th>\n",
       "      <th>HasCrCard</th>\n",
       "      <th>IsActiveMember</th>\n",
       "      <th>EstimatedSalary</th>\n",
       "      <th>Exited</th>\n",
       "    </tr>\n",
       "  </thead>\n",
       "  <tbody>\n",
       "    <tr>\n",
       "      <th>0</th>\n",
       "      <td>1</td>\n",
       "      <td>15634602</td>\n",
       "      <td>Hargrave</td>\n",
       "      <td>619</td>\n",
       "      <td>France</td>\n",
       "      <td>Female</td>\n",
       "      <td>42</td>\n",
       "      <td>2</td>\n",
       "      <td>0.00</td>\n",
       "      <td>1</td>\n",
       "      <td>1</td>\n",
       "      <td>1</td>\n",
       "      <td>101348.88</td>\n",
       "      <td>1</td>\n",
       "    </tr>\n",
       "    <tr>\n",
       "      <th>1</th>\n",
       "      <td>2</td>\n",
       "      <td>15647311</td>\n",
       "      <td>Hill</td>\n",
       "      <td>608</td>\n",
       "      <td>Spain</td>\n",
       "      <td>Female</td>\n",
       "      <td>41</td>\n",
       "      <td>1</td>\n",
       "      <td>83807.86</td>\n",
       "      <td>1</td>\n",
       "      <td>0</td>\n",
       "      <td>1</td>\n",
       "      <td>112542.58</td>\n",
       "      <td>0</td>\n",
       "    </tr>\n",
       "    <tr>\n",
       "      <th>2</th>\n",
       "      <td>3</td>\n",
       "      <td>15619304</td>\n",
       "      <td>Onio</td>\n",
       "      <td>502</td>\n",
       "      <td>France</td>\n",
       "      <td>Female</td>\n",
       "      <td>42</td>\n",
       "      <td>8</td>\n",
       "      <td>159660.80</td>\n",
       "      <td>3</td>\n",
       "      <td>1</td>\n",
       "      <td>0</td>\n",
       "      <td>113931.57</td>\n",
       "      <td>1</td>\n",
       "    </tr>\n",
       "    <tr>\n",
       "      <th>3</th>\n",
       "      <td>4</td>\n",
       "      <td>15701354</td>\n",
       "      <td>Boni</td>\n",
       "      <td>699</td>\n",
       "      <td>France</td>\n",
       "      <td>Female</td>\n",
       "      <td>39</td>\n",
       "      <td>1</td>\n",
       "      <td>0.00</td>\n",
       "      <td>2</td>\n",
       "      <td>0</td>\n",
       "      <td>0</td>\n",
       "      <td>93826.63</td>\n",
       "      <td>0</td>\n",
       "    </tr>\n",
       "    <tr>\n",
       "      <th>4</th>\n",
       "      <td>5</td>\n",
       "      <td>15737888</td>\n",
       "      <td>Mitchell</td>\n",
       "      <td>850</td>\n",
       "      <td>Spain</td>\n",
       "      <td>Female</td>\n",
       "      <td>43</td>\n",
       "      <td>2</td>\n",
       "      <td>125510.82</td>\n",
       "      <td>1</td>\n",
       "      <td>1</td>\n",
       "      <td>1</td>\n",
       "      <td>79084.10</td>\n",
       "      <td>0</td>\n",
       "    </tr>\n",
       "  </tbody>\n",
       "</table>\n",
       "</div>"
      ],
      "text/plain": [
       "   RowNumber  CustomerId   Surname  CreditScore Geography  Gender  Age  \\\n",
       "0          1    15634602  Hargrave          619    France  Female   42   \n",
       "1          2    15647311      Hill          608     Spain  Female   41   \n",
       "2          3    15619304      Onio          502    France  Female   42   \n",
       "3          4    15701354      Boni          699    France  Female   39   \n",
       "4          5    15737888  Mitchell          850     Spain  Female   43   \n",
       "\n",
       "   Tenure    Balance  NumOfProducts  HasCrCard  IsActiveMember  \\\n",
       "0       2       0.00              1          1               1   \n",
       "1       1   83807.86              1          0               1   \n",
       "2       8  159660.80              3          1               0   \n",
       "3       1       0.00              2          0               0   \n",
       "4       2  125510.82              1          1               1   \n",
       "\n",
       "   EstimatedSalary  Exited  \n",
       "0        101348.88       1  \n",
       "1        112542.58       0  \n",
       "2        113931.57       1  \n",
       "3         93826.63       0  \n",
       "4         79084.10       0  "
      ]
     },
     "execution_count": 1,
     "metadata": {},
     "output_type": "execute_result"
    }
   ],
   "source": [
    "import pandas as pd\n",
    "\n",
    "df=pd.read_csv(\"Churn_Modelling.csv\")\n",
    "df.head()"
   ]
  },
  {
   "cell_type": "code",
   "execution_count": 2,
   "metadata": {},
   "outputs": [
    {
     "data": {
      "text/plain": [
       "(10000, 14)"
      ]
     },
     "execution_count": 2,
     "metadata": {},
     "output_type": "execute_result"
    }
   ],
   "source": [
    "df.shape"
   ]
  },
  {
   "cell_type": "code",
   "execution_count": 3,
   "metadata": {},
   "outputs": [],
   "source": [
    "#dropping the columns\n",
    "df.drop(['RowNumber'], axis=1, inplace=True)\n",
    "df.drop(['CustomerId'], axis=1, inplace=True)\n",
    "df.drop(['Surname'], axis=1, inplace=True)"
   ]
  },
  {
   "cell_type": "code",
   "execution_count": 4,
   "metadata": {},
   "outputs": [
    {
     "data": {
      "text/html": [
       "<div>\n",
       "<style scoped>\n",
       "    .dataframe tbody tr th:only-of-type {\n",
       "        vertical-align: middle;\n",
       "    }\n",
       "\n",
       "    .dataframe tbody tr th {\n",
       "        vertical-align: top;\n",
       "    }\n",
       "\n",
       "    .dataframe thead th {\n",
       "        text-align: right;\n",
       "    }\n",
       "</style>\n",
       "<table border=\"1\" class=\"dataframe\">\n",
       "  <thead>\n",
       "    <tr style=\"text-align: right;\">\n",
       "      <th></th>\n",
       "      <th>CreditScore</th>\n",
       "      <th>Geography</th>\n",
       "      <th>Gender</th>\n",
       "      <th>Age</th>\n",
       "      <th>Tenure</th>\n",
       "      <th>Balance</th>\n",
       "      <th>NumOfProducts</th>\n",
       "      <th>HasCrCard</th>\n",
       "      <th>IsActiveMember</th>\n",
       "      <th>EstimatedSalary</th>\n",
       "      <th>Exited</th>\n",
       "    </tr>\n",
       "  </thead>\n",
       "  <tbody>\n",
       "    <tr>\n",
       "      <th>0</th>\n",
       "      <td>619</td>\n",
       "      <td>France</td>\n",
       "      <td>Female</td>\n",
       "      <td>42</td>\n",
       "      <td>2</td>\n",
       "      <td>0.00</td>\n",
       "      <td>1</td>\n",
       "      <td>1</td>\n",
       "      <td>1</td>\n",
       "      <td>101348.88</td>\n",
       "      <td>1</td>\n",
       "    </tr>\n",
       "    <tr>\n",
       "      <th>1</th>\n",
       "      <td>608</td>\n",
       "      <td>Spain</td>\n",
       "      <td>Female</td>\n",
       "      <td>41</td>\n",
       "      <td>1</td>\n",
       "      <td>83807.86</td>\n",
       "      <td>1</td>\n",
       "      <td>0</td>\n",
       "      <td>1</td>\n",
       "      <td>112542.58</td>\n",
       "      <td>0</td>\n",
       "    </tr>\n",
       "    <tr>\n",
       "      <th>2</th>\n",
       "      <td>502</td>\n",
       "      <td>France</td>\n",
       "      <td>Female</td>\n",
       "      <td>42</td>\n",
       "      <td>8</td>\n",
       "      <td>159660.80</td>\n",
       "      <td>3</td>\n",
       "      <td>1</td>\n",
       "      <td>0</td>\n",
       "      <td>113931.57</td>\n",
       "      <td>1</td>\n",
       "    </tr>\n",
       "    <tr>\n",
       "      <th>3</th>\n",
       "      <td>699</td>\n",
       "      <td>France</td>\n",
       "      <td>Female</td>\n",
       "      <td>39</td>\n",
       "      <td>1</td>\n",
       "      <td>0.00</td>\n",
       "      <td>2</td>\n",
       "      <td>0</td>\n",
       "      <td>0</td>\n",
       "      <td>93826.63</td>\n",
       "      <td>0</td>\n",
       "    </tr>\n",
       "    <tr>\n",
       "      <th>4</th>\n",
       "      <td>850</td>\n",
       "      <td>Spain</td>\n",
       "      <td>Female</td>\n",
       "      <td>43</td>\n",
       "      <td>2</td>\n",
       "      <td>125510.82</td>\n",
       "      <td>1</td>\n",
       "      <td>1</td>\n",
       "      <td>1</td>\n",
       "      <td>79084.10</td>\n",
       "      <td>0</td>\n",
       "    </tr>\n",
       "  </tbody>\n",
       "</table>\n",
       "</div>"
      ],
      "text/plain": [
       "   CreditScore Geography  Gender  Age  Tenure    Balance  NumOfProducts  \\\n",
       "0          619    France  Female   42       2       0.00              1   \n",
       "1          608     Spain  Female   41       1   83807.86              1   \n",
       "2          502    France  Female   42       8  159660.80              3   \n",
       "3          699    France  Female   39       1       0.00              2   \n",
       "4          850     Spain  Female   43       2  125510.82              1   \n",
       "\n",
       "   HasCrCard  IsActiveMember  EstimatedSalary  Exited  \n",
       "0          1               1        101348.88       1  \n",
       "1          0               1        112542.58       0  \n",
       "2          1               0        113931.57       1  \n",
       "3          0               0         93826.63       0  \n",
       "4          1               1         79084.10       0  "
      ]
     },
     "execution_count": 4,
     "metadata": {},
     "output_type": "execute_result"
    }
   ],
   "source": [
    "df.head()"
   ]
  },
  {
   "cell_type": "code",
   "execution_count": 5,
   "metadata": {},
   "outputs": [
    {
     "data": {
      "text/plain": [
       "(10000, 11)"
      ]
     },
     "execution_count": 5,
     "metadata": {},
     "output_type": "execute_result"
    }
   ],
   "source": [
    "df.shape"
   ]
  },
  {
   "cell_type": "code",
   "execution_count": 6,
   "metadata": {},
   "outputs": [],
   "source": [
    "#one-hot-encoding of categorical features\n",
    "\n",
    "df=pd.get_dummies(df, drop_first=True)"
   ]
  },
  {
   "cell_type": "code",
   "execution_count": 7,
   "metadata": {},
   "outputs": [
    {
     "data": {
      "text/html": [
       "<div>\n",
       "<style scoped>\n",
       "    .dataframe tbody tr th:only-of-type {\n",
       "        vertical-align: middle;\n",
       "    }\n",
       "\n",
       "    .dataframe tbody tr th {\n",
       "        vertical-align: top;\n",
       "    }\n",
       "\n",
       "    .dataframe thead th {\n",
       "        text-align: right;\n",
       "    }\n",
       "</style>\n",
       "<table border=\"1\" class=\"dataframe\">\n",
       "  <thead>\n",
       "    <tr style=\"text-align: right;\">\n",
       "      <th></th>\n",
       "      <th>CreditScore</th>\n",
       "      <th>Age</th>\n",
       "      <th>Tenure</th>\n",
       "      <th>Balance</th>\n",
       "      <th>NumOfProducts</th>\n",
       "      <th>HasCrCard</th>\n",
       "      <th>IsActiveMember</th>\n",
       "      <th>EstimatedSalary</th>\n",
       "      <th>Exited</th>\n",
       "      <th>Geography_Germany</th>\n",
       "      <th>Geography_Spain</th>\n",
       "      <th>Gender_Male</th>\n",
       "    </tr>\n",
       "  </thead>\n",
       "  <tbody>\n",
       "    <tr>\n",
       "      <th>0</th>\n",
       "      <td>619</td>\n",
       "      <td>42</td>\n",
       "      <td>2</td>\n",
       "      <td>0.00</td>\n",
       "      <td>1</td>\n",
       "      <td>1</td>\n",
       "      <td>1</td>\n",
       "      <td>101348.88</td>\n",
       "      <td>1</td>\n",
       "      <td>0</td>\n",
       "      <td>0</td>\n",
       "      <td>0</td>\n",
       "    </tr>\n",
       "    <tr>\n",
       "      <th>1</th>\n",
       "      <td>608</td>\n",
       "      <td>41</td>\n",
       "      <td>1</td>\n",
       "      <td>83807.86</td>\n",
       "      <td>1</td>\n",
       "      <td>0</td>\n",
       "      <td>1</td>\n",
       "      <td>112542.58</td>\n",
       "      <td>0</td>\n",
       "      <td>0</td>\n",
       "      <td>1</td>\n",
       "      <td>0</td>\n",
       "    </tr>\n",
       "    <tr>\n",
       "      <th>2</th>\n",
       "      <td>502</td>\n",
       "      <td>42</td>\n",
       "      <td>8</td>\n",
       "      <td>159660.80</td>\n",
       "      <td>3</td>\n",
       "      <td>1</td>\n",
       "      <td>0</td>\n",
       "      <td>113931.57</td>\n",
       "      <td>1</td>\n",
       "      <td>0</td>\n",
       "      <td>0</td>\n",
       "      <td>0</td>\n",
       "    </tr>\n",
       "    <tr>\n",
       "      <th>3</th>\n",
       "      <td>699</td>\n",
       "      <td>39</td>\n",
       "      <td>1</td>\n",
       "      <td>0.00</td>\n",
       "      <td>2</td>\n",
       "      <td>0</td>\n",
       "      <td>0</td>\n",
       "      <td>93826.63</td>\n",
       "      <td>0</td>\n",
       "      <td>0</td>\n",
       "      <td>0</td>\n",
       "      <td>0</td>\n",
       "    </tr>\n",
       "    <tr>\n",
       "      <th>4</th>\n",
       "      <td>850</td>\n",
       "      <td>43</td>\n",
       "      <td>2</td>\n",
       "      <td>125510.82</td>\n",
       "      <td>1</td>\n",
       "      <td>1</td>\n",
       "      <td>1</td>\n",
       "      <td>79084.10</td>\n",
       "      <td>0</td>\n",
       "      <td>0</td>\n",
       "      <td>1</td>\n",
       "      <td>0</td>\n",
       "    </tr>\n",
       "  </tbody>\n",
       "</table>\n",
       "</div>"
      ],
      "text/plain": [
       "   CreditScore  Age  Tenure    Balance  NumOfProducts  HasCrCard  \\\n",
       "0          619   42       2       0.00              1          1   \n",
       "1          608   41       1   83807.86              1          0   \n",
       "2          502   42       8  159660.80              3          1   \n",
       "3          699   39       1       0.00              2          0   \n",
       "4          850   43       2  125510.82              1          1   \n",
       "\n",
       "   IsActiveMember  EstimatedSalary  Exited  Geography_Germany  \\\n",
       "0               1        101348.88       1                  0   \n",
       "1               1        112542.58       0                  0   \n",
       "2               0        113931.57       1                  0   \n",
       "3               0         93826.63       0                  0   \n",
       "4               1         79084.10       0                  0   \n",
       "\n",
       "   Geography_Spain  Gender_Male  \n",
       "0                0            0  \n",
       "1                1            0  \n",
       "2                0            0  \n",
       "3                0            0  \n",
       "4                1            0  "
      ]
     },
     "execution_count": 7,
     "metadata": {},
     "output_type": "execute_result"
    }
   ],
   "source": [
    "df.head()"
   ]
  },
  {
   "cell_type": "code",
   "execution_count": 8,
   "metadata": {},
   "outputs": [],
   "source": [
    "#creating independent and dependent features\n",
    "\n",
    "X= df[[\"CreditScore\",\"Age\",\"Tenure\",\"Balance\",\"NumOfProducts\",\"HasCrCard\",\"IsActiveMember\",\"EstimatedSalary\",\"Geography_Germany\",\"Geography_Spain\",\"Gender_Male\"]]\n",
    "y=df[\"Exited\"]"
   ]
  },
  {
   "cell_type": "code",
   "execution_count": 9,
   "metadata": {},
   "outputs": [],
   "source": [
    "from sklearn.model_selection import train_test_split\n",
    "X_train, X_test, y_train, y_test = train_test_split(X, y, test_size = 0.2, random_state = 0)"
   ]
  },
  {
   "cell_type": "code",
   "execution_count": 10,
   "metadata": {},
   "outputs": [],
   "source": [
    "#feature scaling\n",
    "\n",
    "from sklearn.preprocessing import StandardScaler\n",
    "sc = StandardScaler()\n",
    "X_train = sc.fit_transform(X_train)\n",
    "X_test = sc.transform(X_test)"
   ]
  },
  {
   "cell_type": "code",
   "execution_count": 11,
   "metadata": {},
   "outputs": [
    {
     "name": "stderr",
     "output_type": "stream",
     "text": [
      "Using TensorFlow backend.\n"
     ]
    }
   ],
   "source": [
    "#importing the Keras libraries and packages\n",
    "\n",
    "import keras\n",
    "from keras.models import Sequential\n",
    "from keras.layers import Dense\n",
    "from keras.layers import LeakyReLU,PReLU,ELU\n",
    "from keras.layers import Dropout"
   ]
  },
  {
   "cell_type": "code",
   "execution_count": 12,
   "metadata": {},
   "outputs": [],
   "source": [
    "#initializing the ANN\n",
    "\n",
    "classifier = Sequential()"
   ]
  },
  {
   "cell_type": "code",
   "execution_count": 13,
   "metadata": {},
   "outputs": [],
   "source": [
    "#adding the input layer and the first hidden layer\n",
    "\n",
    "classifier.add(Dense(units = 8, kernel_initializer = 'he_uniform', activation='relu', input_dim = 11))\n",
    "classifier.add(Dropout(0.2))"
   ]
  },
  {
   "cell_type": "code",
   "execution_count": 14,
   "metadata": {},
   "outputs": [],
   "source": [
    "#adding the second hidden layer\n",
    "\n",
    "classifier.add(Dense(units = 8, kernel_initializer = 'he_uniform', activation='relu'))\n",
    "classifier.add(Dropout(0.3))"
   ]
  },
  {
   "cell_type": "code",
   "execution_count": 15,
   "metadata": {},
   "outputs": [],
   "source": [
    "#adding the output layer\n",
    "\n",
    "classifier.add(Dense(units = 1, kernel_initializer = 'glorot_uniform', activation = 'sigmoid'))"
   ]
  },
  {
   "cell_type": "code",
   "execution_count": 16,
   "metadata": {},
   "outputs": [
    {
     "name": "stdout",
     "output_type": "stream",
     "text": [
      "WARNING:tensorflow:From C:\\Users\\mahin\\Anaconda3\\lib\\site-packages\\tensorflow\\python\\ops\\nn_impl.py:180: add_dispatch_support.<locals>.wrapper (from tensorflow.python.ops.array_ops) is deprecated and will be removed in a future version.\n",
      "Instructions for updating:\n",
      "Use tf.where in 2.0, which has the same broadcast rule as np.where\n"
     ]
    }
   ],
   "source": [
    "#compiling the ANN\n",
    "\n",
    "classifier.compile(optimizer = 'Adam', loss = 'binary_crossentropy', metrics = ['accuracy'])"
   ]
  },
  {
   "cell_type": "code",
   "execution_count": 17,
   "metadata": {},
   "outputs": [
    {
     "name": "stdout",
     "output_type": "stream",
     "text": [
      "WARNING:tensorflow:From C:\\Users\\mahin\\Anaconda3\\lib\\site-packages\\keras\\backend\\tensorflow_backend.py:422: The name tf.global_variables is deprecated. Please use tf.compat.v1.global_variables instead.\n",
      "\n",
      "Train on 5359 samples, validate on 2641 samples\n",
      "Epoch 1/80\n",
      "5359/5359 [==============================] - 1s 188us/step - loss: 0.7544 - accuracy: 0.6221 - val_loss: 0.4947 - val_accuracy: 0.7906\n",
      "Epoch 2/80\n",
      "5359/5359 [==============================] - 1s 140us/step - loss: 0.5436 - accuracy: 0.7557 - val_loss: 0.4632 - val_accuracy: 0.7952\n",
      "Epoch 3/80\n",
      "5359/5359 [==============================] - 1s 130us/step - loss: 0.4979 - accuracy: 0.7869 - val_loss: 0.4516 - val_accuracy: 0.7967\n",
      "Epoch 4/80\n",
      "5359/5359 [==============================] - 1s 139us/step - loss: 0.4745 - accuracy: 0.7966 - val_loss: 0.4418 - val_accuracy: 0.7982\n",
      "Epoch 5/80\n",
      "5359/5359 [==============================] - 1s 130us/step - loss: 0.4611 - accuracy: 0.8022 - val_loss: 0.4319 - val_accuracy: 0.8008\n",
      "Epoch 6/80\n",
      "5359/5359 [==============================] - 1s 130us/step - loss: 0.4419 - accuracy: 0.8089 - val_loss: 0.4170 - val_accuracy: 0.8095\n",
      "Epoch 7/80\n",
      "5359/5359 [==============================] - 1s 128us/step - loss: 0.4284 - accuracy: 0.8188 - val_loss: 0.4065 - val_accuracy: 0.8213\n",
      "Epoch 8/80\n",
      "5359/5359 [==============================] - 1s 127us/step - loss: 0.4286 - accuracy: 0.8233 - val_loss: 0.4014 - val_accuracy: 0.8198\n",
      "Epoch 9/80\n",
      "5359/5359 [==============================] - 1s 165us/step - loss: 0.4143 - accuracy: 0.8222 - val_loss: 0.3917 - val_accuracy: 0.8323\n",
      "Epoch 10/80\n",
      "5359/5359 [==============================] - 1s 187us/step - loss: 0.4166 - accuracy: 0.8300 - val_loss: 0.3905 - val_accuracy: 0.8292\n",
      "Epoch 11/80\n",
      "5359/5359 [==============================] - 1s 144us/step - loss: 0.3952 - accuracy: 0.8345 - val_loss: 0.3819 - val_accuracy: 0.8360\n",
      "Epoch 12/80\n",
      "5359/5359 [==============================] - 1s 149us/step - loss: 0.4017 - accuracy: 0.8311 - val_loss: 0.3820 - val_accuracy: 0.8368\n",
      "Epoch 13/80\n",
      "5359/5359 [==============================] - 1s 146us/step - loss: 0.4005 - accuracy: 0.8324 - val_loss: 0.3810 - val_accuracy: 0.8372\n",
      "Epoch 14/80\n",
      "5359/5359 [==============================] - 1s 134us/step - loss: 0.3978 - accuracy: 0.8330 - val_loss: 0.3807 - val_accuracy: 0.8357\n",
      "Epoch 15/80\n",
      "5359/5359 [==============================] - 1s 137us/step - loss: 0.3904 - accuracy: 0.8360 - val_loss: 0.3783 - val_accuracy: 0.8383\n",
      "Epoch 16/80\n",
      "5359/5359 [==============================] - 1s 138us/step - loss: 0.3926 - accuracy: 0.8309 - val_loss: 0.3815 - val_accuracy: 0.8349\n",
      "Epoch 17/80\n",
      "5359/5359 [==============================] - 1s 136us/step - loss: 0.3950 - accuracy: 0.8317 - val_loss: 0.3787 - val_accuracy: 0.8387\n",
      "Epoch 18/80\n",
      "5359/5359 [==============================] - 1s 136us/step - loss: 0.3861 - accuracy: 0.8360 - val_loss: 0.3761 - val_accuracy: 0.8425\n",
      "Epoch 19/80\n",
      "5359/5359 [==============================] - 1s 138us/step - loss: 0.3875 - accuracy: 0.8386 - val_loss: 0.3774 - val_accuracy: 0.8398\n",
      "Epoch 20/80\n",
      "5359/5359 [==============================] - 1s 137us/step - loss: 0.3906 - accuracy: 0.8350 - val_loss: 0.3767 - val_accuracy: 0.8425\n",
      "Epoch 21/80\n",
      "5359/5359 [==============================] - 1s 147us/step - loss: 0.3894 - accuracy: 0.8367 - val_loss: 0.3757 - val_accuracy: 0.8417\n",
      "Epoch 22/80\n",
      "5359/5359 [==============================] - 1s 141us/step - loss: 0.3888 - accuracy: 0.8350 - val_loss: 0.3760 - val_accuracy: 0.8398\n",
      "Epoch 23/80\n",
      "5359/5359 [==============================] - 1s 138us/step - loss: 0.3840 - accuracy: 0.8317 - val_loss: 0.3760 - val_accuracy: 0.8391\n",
      "Epoch 24/80\n",
      "5359/5359 [==============================] - 1s 136us/step - loss: 0.3810 - accuracy: 0.8433 - val_loss: 0.3734 - val_accuracy: 0.8421\n",
      "Epoch 25/80\n",
      "5359/5359 [==============================] - 1s 168us/step - loss: 0.3783 - accuracy: 0.8421 - val_loss: 0.3727 - val_accuracy: 0.8421\n",
      "Epoch 26/80\n",
      "5359/5359 [==============================] - 1s 171us/step - loss: 0.3831 - accuracy: 0.8354 - val_loss: 0.3731 - val_accuracy: 0.8425\n",
      "Epoch 27/80\n",
      "5359/5359 [==============================] - 1s 206us/step - loss: 0.3803 - accuracy: 0.8416 - val_loss: 0.3740 - val_accuracy: 0.8413\n",
      "Epoch 28/80\n",
      "5359/5359 [==============================] - 1s 224us/step - loss: 0.3758 - accuracy: 0.8470 - val_loss: 0.3704 - val_accuracy: 0.8470\n",
      "Epoch 29/80\n",
      "5359/5359 [==============================] - 1s 243us/step - loss: 0.3794 - accuracy: 0.8393 - val_loss: 0.3712 - val_accuracy: 0.8463\n",
      "Epoch 30/80\n",
      "5359/5359 [==============================] - 1s 210us/step - loss: 0.3790 - accuracy: 0.8425 - val_loss: 0.3717 - val_accuracy: 0.8440\n",
      "Epoch 31/80\n",
      "5359/5359 [==============================] - 1s 168us/step - loss: 0.3759 - accuracy: 0.8440 - val_loss: 0.3696 - val_accuracy: 0.8482\n",
      "Epoch 32/80\n",
      "5359/5359 [==============================] - 1s 178us/step - loss: 0.3765 - accuracy: 0.8449 - val_loss: 0.3727 - val_accuracy: 0.8425\n",
      "Epoch 33/80\n",
      "5359/5359 [==============================] - 1s 161us/step - loss: 0.3775 - accuracy: 0.8433 - val_loss: 0.3725 - val_accuracy: 0.8432\n",
      "Epoch 34/80\n",
      "5359/5359 [==============================] - 1s 154us/step - loss: 0.3724 - accuracy: 0.8433 - val_loss: 0.3697 - val_accuracy: 0.8451\n",
      "Epoch 35/80\n",
      "5359/5359 [==============================] - 1s 150us/step - loss: 0.3734 - accuracy: 0.8446 - val_loss: 0.3688 - val_accuracy: 0.8436\n",
      "Epoch 36/80\n",
      "5359/5359 [==============================] - 1s 154us/step - loss: 0.3770 - accuracy: 0.8414 - val_loss: 0.3690 - val_accuracy: 0.8444\n",
      "Epoch 37/80\n",
      "5359/5359 [==============================] - 1s 188us/step - loss: 0.3775 - accuracy: 0.8444 - val_loss: 0.3685 - val_accuracy: 0.8444\n",
      "Epoch 38/80\n",
      "5359/5359 [==============================] - 1s 177us/step - loss: 0.3713 - accuracy: 0.8483 - val_loss: 0.3686 - val_accuracy: 0.8451\n",
      "Epoch 39/80\n",
      "5359/5359 [==============================] - 1s 181us/step - loss: 0.3727 - accuracy: 0.8431 - val_loss: 0.3694 - val_accuracy: 0.8444\n",
      "Epoch 40/80\n",
      "5359/5359 [==============================] - 1s 190us/step - loss: 0.3773 - accuracy: 0.8412 - val_loss: 0.3702 - val_accuracy: 0.8429\n",
      "Epoch 41/80\n",
      "5359/5359 [==============================] - 1s 177us/step - loss: 0.3730 - accuracy: 0.8457 - val_loss: 0.3715 - val_accuracy: 0.8440\n",
      "Epoch 42/80\n",
      "5359/5359 [==============================] - 1s 182us/step - loss: 0.3726 - accuracy: 0.8462 - val_loss: 0.3690 - val_accuracy: 0.8463\n",
      "Epoch 43/80\n",
      "5359/5359 [==============================] - 1s 180us/step - loss: 0.3785 - accuracy: 0.8434 - val_loss: 0.3699 - val_accuracy: 0.8448\n",
      "Epoch 44/80\n",
      "5359/5359 [==============================] - 1s 202us/step - loss: 0.3728 - accuracy: 0.8483 - val_loss: 0.3687 - val_accuracy: 0.8459\n",
      "Epoch 45/80\n",
      "5359/5359 [==============================] - 1s 268us/step - loss: 0.3682 - accuracy: 0.8470 - val_loss: 0.3658 - val_accuracy: 0.8482\n",
      "Epoch 46/80\n",
      "5359/5359 [==============================] - 1s 258us/step - loss: 0.3775 - accuracy: 0.8477 - val_loss: 0.3686 - val_accuracy: 0.8451\n",
      "Epoch 47/80\n",
      "5359/5359 [==============================] - 1s 187us/step - loss: 0.3754 - accuracy: 0.8459 - val_loss: 0.3683 - val_accuracy: 0.8451\n",
      "Epoch 48/80\n",
      "5359/5359 [==============================] - 1s 176us/step - loss: 0.3653 - accuracy: 0.8509 - val_loss: 0.3702 - val_accuracy: 0.8459\n",
      "Epoch 49/80\n",
      "5359/5359 [==============================] - 1s 174us/step - loss: 0.3770 - accuracy: 0.8419 - val_loss: 0.3690 - val_accuracy: 0.8440\n",
      "Epoch 50/80\n",
      "5359/5359 [==============================] - 1s 177us/step - loss: 0.3684 - accuracy: 0.8485 - val_loss: 0.3681 - val_accuracy: 0.8451\n",
      "Epoch 51/80\n",
      "5359/5359 [==============================] - 1s 174us/step - loss: 0.3644 - accuracy: 0.8498 - val_loss: 0.3681 - val_accuracy: 0.8432\n",
      "Epoch 52/80\n",
      "5359/5359 [==============================] - 1s 174us/step - loss: 0.3689 - accuracy: 0.8509 - val_loss: 0.3651 - val_accuracy: 0.8478\n",
      "Epoch 53/80\n",
      "5359/5359 [==============================] - 1s 182us/step - loss: 0.3710 - accuracy: 0.8474 - val_loss: 0.3672 - val_accuracy: 0.8455\n",
      "Epoch 54/80\n",
      "5359/5359 [==============================] - 1s 260us/step - loss: 0.3716 - accuracy: 0.8442 - val_loss: 0.3663 - val_accuracy: 0.8444\n",
      "Epoch 55/80\n",
      "5359/5359 [==============================] - 1s 264us/step - loss: 0.3707 - accuracy: 0.8477 - val_loss: 0.3655 - val_accuracy: 0.8463\n",
      "Epoch 56/80\n",
      "5359/5359 [==============================] - 1s 180us/step - loss: 0.3721 - accuracy: 0.8451 - val_loss: 0.3691 - val_accuracy: 0.8466\n",
      "Epoch 57/80\n",
      "5359/5359 [==============================] - 1s 267us/step - loss: 0.3731 - accuracy: 0.8419 - val_loss: 0.3694 - val_accuracy: 0.8474\n",
      "Epoch 58/80\n",
      "5359/5359 [==============================] - 1s 191us/step - loss: 0.3693 - accuracy: 0.8436 - val_loss: 0.3671 - val_accuracy: 0.8482\n",
      "Epoch 59/80\n",
      "5359/5359 [==============================] - 1s 204us/step - loss: 0.3730 - accuracy: 0.8483 - val_loss: 0.3659 - val_accuracy: 0.8489\n",
      "Epoch 60/80\n",
      "5359/5359 [==============================] - 1s 256us/step - loss: 0.3708 - accuracy: 0.8505 - val_loss: 0.3649 - val_accuracy: 0.8478\n",
      "Epoch 61/80\n",
      "5359/5359 [==============================] - 1s 219us/step - loss: 0.3729 - accuracy: 0.8490 - val_loss: 0.3667 - val_accuracy: 0.8474\n",
      "Epoch 62/80\n",
      "5359/5359 [==============================] - 1s 156us/step - loss: 0.3765 - accuracy: 0.8427 - val_loss: 0.3676 - val_accuracy: 0.8478\n",
      "Epoch 63/80\n",
      "5359/5359 [==============================] - 1s 206us/step - loss: 0.3746 - accuracy: 0.8446 - val_loss: 0.3665 - val_accuracy: 0.8470\n",
      "Epoch 64/80\n",
      "5359/5359 [==============================] - 1s 203us/step - loss: 0.3770 - accuracy: 0.8462 - val_loss: 0.3684 - val_accuracy: 0.8463\n",
      "Epoch 65/80\n",
      "5359/5359 [==============================] - 1s 221us/step - loss: 0.3676 - accuracy: 0.8481 - val_loss: 0.3653 - val_accuracy: 0.8493\n",
      "Epoch 66/80\n",
      "5359/5359 [==============================] - 1s 194us/step - loss: 0.3782 - accuracy: 0.8408 - val_loss: 0.3647 - val_accuracy: 0.8478\n",
      "Epoch 67/80\n",
      "5359/5359 [==============================] - 1s 210us/step - loss: 0.3705 - accuracy: 0.8485 - val_loss: 0.3685 - val_accuracy: 0.8455\n",
      "Epoch 68/80\n",
      "5359/5359 [==============================] - 1s 198us/step - loss: 0.3730 - accuracy: 0.8457 - val_loss: 0.3672 - val_accuracy: 0.8485\n",
      "Epoch 69/80\n",
      "5359/5359 [==============================] - 1s 178us/step - loss: 0.3724 - accuracy: 0.8494 - val_loss: 0.3656 - val_accuracy: 0.8485\n",
      "Epoch 70/80\n",
      "5359/5359 [==============================] - 1s 188us/step - loss: 0.3685 - accuracy: 0.8530 - val_loss: 0.3622 - val_accuracy: 0.8485\n",
      "Epoch 71/80\n",
      "5359/5359 [==============================] - 1s 201us/step - loss: 0.3713 - accuracy: 0.8444 - val_loss: 0.3637 - val_accuracy: 0.8482\n",
      "Epoch 72/80\n",
      "5359/5359 [==============================] - 1s 224us/step - loss: 0.3695 - accuracy: 0.8474 - val_loss: 0.3647 - val_accuracy: 0.8489\n",
      "Epoch 73/80\n",
      "5359/5359 [==============================] - 1s 240us/step - loss: 0.3716 - accuracy: 0.8483 - val_loss: 0.3655 - val_accuracy: 0.8497\n",
      "Epoch 74/80\n",
      "5359/5359 [==============================] - 2s 308us/step - loss: 0.3674 - accuracy: 0.8503 - val_loss: 0.3645 - val_accuracy: 0.8504\n",
      "Epoch 75/80\n",
      "5359/5359 [==============================] - 1s 246us/step - loss: 0.3656 - accuracy: 0.8489 - val_loss: 0.3632 - val_accuracy: 0.8455\n",
      "Epoch 76/80\n",
      "5359/5359 [==============================] - 1s 274us/step - loss: 0.3720 - accuracy: 0.8511 - val_loss: 0.3664 - val_accuracy: 0.8478\n",
      "Epoch 77/80\n",
      "5359/5359 [==============================] - 2s 285us/step - loss: 0.3706 - accuracy: 0.8475 - val_loss: 0.3656 - val_accuracy: 0.8504\n",
      "Epoch 78/80\n",
      "5359/5359 [==============================] - 1s 267us/step - loss: 0.3651 - accuracy: 0.8496 - val_loss: 0.3656 - val_accuracy: 0.8493\n",
      "Epoch 79/80\n",
      "5359/5359 [==============================] - 1s 270us/step - loss: 0.3690 - accuracy: 0.8477 - val_loss: 0.3644 - val_accuracy: 0.8482\n",
      "Epoch 80/80\n",
      "5359/5359 [==============================] - 1s 255us/step - loss: 0.3679 - accuracy: 0.8505 - val_loss: 0.3628 - val_accuracy: 0.8485\n"
     ]
    }
   ],
   "source": [
    "#fitting the ANN to the training set\n",
    "\n",
    "model=classifier.fit(X_train, y_train, validation_split=0.33, batch_size = 10, epochs = 80)"
   ]
  },
  {
   "cell_type": "code",
   "execution_count": 18,
   "metadata": {},
   "outputs": [
    {
     "name": "stdout",
     "output_type": "stream",
     "text": [
      "dict_keys(['val_loss', 'val_accuracy', 'loss', 'accuracy'])\n"
     ]
    }
   ],
   "source": [
    "#list all data in history\n",
    "\n",
    "print(model.history.keys())"
   ]
  },
  {
   "cell_type": "code",
   "execution_count": 21,
   "metadata": {},
   "outputs": [
    {
     "data": {
      "text/plain": [
       "[<matplotlib.lines.Line2D at 0x19d06b30cc8>]"
      ]
     },
     "execution_count": 21,
     "metadata": {},
     "output_type": "execute_result"
    },
    {
     "data": {
      "image/png": "[encoded data removed]",
      "text/plain": [
       "<Figure size 432x288 with 1 Axes>"
      ]
     },
     "metadata": {
      "needs_background": "light"
     },
     "output_type": "display_data"
    }
   ],
   "source": [
    "import matplotlib.pyplot as plt\n",
    "plt.plot(model.history['val_loss'])"
   ]
  },
  {
   "cell_type": "code",
   "execution_count": 22,
   "metadata": {},
   "outputs": [
    {
     "data": {
      "text/plain": [
       "[<matplotlib.lines.Line2D at 0x19d06bcecc8>]"
      ]
     },
     "execution_count": 22,
     "metadata": {},
     "output_type": "execute_result"
    },
    {
     "data": {
      "image/png": "[encoded data removed]",
      "text/plain": [
       "<Figure size 432x288 with 1 Axes>"
      ]
     },
     "metadata": {
      "needs_background": "light"
     },
     "output_type": "display_data"
    }
   ],
   "source": [
    "plt.plot(model.history['loss'])"
   ]
  },
  {
   "cell_type": "code",
   "execution_count": 23,
   "metadata": {},
   "outputs": [
    {
     "data": {
      "text/plain": [
       "[<matplotlib.lines.Line2D at 0x19d06c44e88>]"
      ]
     },
     "execution_count": 23,
     "metadata": {},
     "output_type": "execute_result"
    },
    {
     "data": {
      "image/png": "[encoded data removed]",
      "text/plain": [
       "<Figure size 432x288 with 1 Axes>"
      ]
     },
     "metadata": {
      "needs_background": "light"
     },
     "output_type": "display_data"
    }
   ],
   "source": [
    "plt.plot(model.history['val_accuracy'])"
   ]
  },
  {
   "cell_type": "code",
   "execution_count": 24,
   "metadata": {},
   "outputs": [
    {
     "data": {
      "text/plain": [
       "[<matplotlib.lines.Line2D at 0x19d06cb8908>]"
      ]
     },
     "execution_count": 24,
     "metadata": {},
     "output_type": "execute_result"
    },
    {
     "data": {
      "image/png": "[encoded data removed]",
      "text/plain": [
       "<Figure size 432x288 with 1 Axes>"
      ]
     },
     "metadata": {
      "needs_background": "light"
     },
     "output_type": "display_data"
    }
   ],
   "source": [
    "plt.plot(model.history['accuracy'])"
   ]
  },
  {
   "cell_type": "code",
   "execution_count": 25,
   "metadata": {},
   "outputs": [
    {
     "name": "stdout",
     "output_type": "stream",
     "text": [
      "[[False]\n",
      " [False]\n",
      " [False]\n",
      " ...\n",
      " [False]\n",
      " [False]\n",
      " [False]]\n"
     ]
    }
   ],
   "source": [
    "#prediction of test sets\n",
    "\n",
    "prediction = classifier.predict(X_test)\n",
    "prediction = (prediction > 0.5)\n",
    "print(prediction)"
   ]
  },
  {
   "cell_type": "code",
   "execution_count": 26,
   "metadata": {},
   "outputs": [
    {
     "name": "stdout",
     "output_type": "stream",
     "text": [
      "[[1562   33]\n",
      " [ 228  177]]\n"
     ]
    }
   ],
   "source": [
    "#the confusion matrix\n",
    "\n",
    "from sklearn.metrics import confusion_matrix\n",
    "matrix = confusion_matrix(y_test, prediction)\n",
    "print(matrix)"
   ]
  },
  {
   "cell_type": "code",
   "execution_count": 27,
   "metadata": {},
   "outputs": [
    {
     "name": "stdout",
     "output_type": "stream",
     "text": [
      "0.8695\n"
     ]
    }
   ],
   "source": [
    "#accuracy calculation\n",
    "\n",
    "from sklearn.metrics import accuracy_score\n",
    "score=accuracy_score(prediction, y_test)\n",
    "print(score)"
   ]
  },
  {
   "cell_type": "code",
   "execution_count": null,
   "metadata": {},
   "outputs": [],
   "source": []
  }
 ],
 "metadata": {
  "kernelspec": {
   "display_name": "Python 3",
   "language": "python",
   "name": "python3"
  },
  "language_info": {
   "codemirror_mode": {
    "name": "ipython",
    "version": 3
   },
   "file_extension": ".py",
   "mimetype": "text/x-python",
   "name": "python",
   "nbconvert_exporter": "python",
   "pygments_lexer": "ipython3",
   "version": "3.7.4"
  }
 },
 "nbformat": 4,
 "nbformat_minor": 2
}
